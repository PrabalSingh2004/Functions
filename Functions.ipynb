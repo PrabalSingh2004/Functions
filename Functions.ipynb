{
  "nbformat": 4,
  "nbformat_minor": 0,
  "metadata": {
    "colab": {
      "provenance": []
    },
    "kernelspec": {
      "name": "python3",
      "display_name": "Python 3"
    },
    "language_info": {
      "name": "python"
    }
  },
  "cells": [
    {
      "cell_type": "markdown",
      "source": [
        "#Theory Questions\n",
        "\n",
        "\n"
      ],
      "metadata": {
        "id": "e_362gdS6ZVM"
      }
    },
    {
      "cell_type": "markdown",
      "source": [
        "1. What is the difference between a function and a method in Python?\n",
        "\n",
        "A function is a standalone block of code, while a method is associated with an object and is called using the object.\n",
        "Example: len([1, 2, 3]) is a function; \"hello\".upper() is a method.\n",
        "\n",
        "2. Explain the concept of function arguments and parameters in Python.\n",
        "\n",
        "Parameters are variables defined in a function declaration, while arguments are the values passed to the function when it is called.\n",
        "Example: In def greet(name):, name is a parameter. In greet(\"Alice\"), \"Alice\" is an argument.\n",
        "\n",
        "3. What are the different ways to define and call a function in Python?\n",
        "\n",
        "Functions can be defined using def or as lambda expressions and called using their name followed by parentheses.\n",
        "Example: def add(a, b): return a + b is a defined function, while add(3, 5) calls it.\n",
        "\n",
        "4. What is the purpose of the return statement in a Python function?\n",
        "\n",
        "The return statement sends a value back to the caller, ending the function's execution.\n",
        "Example: def square(x): return x**2 returns the square of x.\n",
        "\n",
        "5. What are iterators in Python and how do they differ from iterables?\n",
        "\n",
        "An iterator is an object with a __next__() method to fetch items one at a time, while an iterable is an object that can be looped over to create an iterator.\n",
        "Example: iter([1, 2, 3]) creates an iterator from a list.\n",
        "\n",
        "6. Explain the concept of generators in Python and how they are defined.\n",
        "\n",
        "Generators are functions that yield values one at a time using the yield keyword. They allow memory-efficient iteration.\n",
        "Example:\n",
        "def gen():  \n",
        "    yield 1  \n",
        "    yield 2  \n",
        "\n",
        "7. What are the advantages of using generators over regular functions?\n",
        "\n",
        "Generators save memory by yielding values lazily and allow working with large datasets efficiently.\n",
        "Example: Using range() for iteration generates numbers without storing all of them in memory.\n",
        "\n",
        "8. What is a lambda function in Python and when is it typically used?\n",
        "\n",
        "A lambda function is an anonymous, single-line function defined with the lambda keyword, often used for short, throwaway operations.\n",
        "Example: square = lambda x: x**2\n",
        "\n",
        "9. Explain the purpose and usage of the map() function in Python.\n",
        "\n",
        "The map() function applies a given function to all elements in an iterable.\n",
        "Example: list(map(lambda x: x*2, [1, 2, 3])) outputs [2, 4, 6].\n",
        "\n",
        "10. What is the difference between map(), reduce(), and filter() functions in Python?\n",
        "\n",
        "map() applies a function to all items.\n",
        "filter() selects items based on a condition.\n",
        "reduce() combines items using a function."
      ],
      "metadata": {
        "id": "4mYB7yFQ6yLu"
      }
    },
    {
      "cell_type": "markdown",
      "source": [
        "#Practical Questions:"
      ],
      "metadata": {
        "id": "VIypU4h28QXw"
      }
    },
    {
      "cell_type": "code",
      "source": [
        "# 1. Write a Python function that takes a list of numbers as input and returns the sum of all even numbers in the list.\n",
        "def sum_even_numbers(numbers):\n",
        "    return sum(x for x in numbers if x % 2 == 0)\n"
      ],
      "metadata": {
        "id": "5J6AfGGO8VmV"
      },
      "execution_count": null,
      "outputs": []
    },
    {
      "cell_type": "code",
      "source": [
        "# 2. Create a Python function that accepts a string and returns the reverse of that string.\n",
        "def reverse_string(s):\n",
        "    return s[::-1]\n"
      ],
      "metadata": {
        "id": "D5i_luq_83rT"
      },
      "execution_count": null,
      "outputs": []
    },
    {
      "cell_type": "code",
      "source": [
        "# 3. Implement a Python function that takes a list of integers and returns a new list containing the squares of each number.\n",
        "def square_numbers(numbers):\n",
        "    return [x**2 for x in numbers]\n"
      ],
      "metadata": {
        "id": "u6mVfQ3U85b6"
      },
      "execution_count": null,
      "outputs": []
    },
    {
      "cell_type": "code",
      "source": [
        "# 4. Write a Python function that checks if a given number is prime or not from 1 to 200.\n",
        "def is_prime(n):\n",
        "    if n < 2:\n",
        "        return False\n",
        "    for i in range(2, int(n**0.5) + 1):\n",
        "        if n % i == 0:\n",
        "            return False\n",
        "    return True\n",
        "\n",
        "# Finding all prime numbers from 1 to 200.\n",
        "primes = [n for n in range(1, 201) if is_prime(n)]\n"
      ],
      "metadata": {
        "id": "shG6rEVk87He"
      },
      "execution_count": null,
      "outputs": []
    },
    {
      "cell_type": "code",
      "source": [
        "# 5. Create an iterator class in Python that generates the Fibonacci sequence up to a specified number of terms.\n",
        "class Fibonacci:\n",
        "    def __init__(self, n):\n",
        "        self.n = n\n",
        "        self.current, self.next = 0, 1\n",
        "        self.count = 0\n",
        "\n",
        "    def __iter__(self):\n",
        "        return self\n",
        "\n",
        "    def __next__(self):\n",
        "        if self.count >= self.n:\n",
        "            raise StopIteration\n",
        "        fib = self.current\n",
        "        self.current, self.next = self.next, self.current + self.next\n",
        "        self.count += 1\n",
        "        return fib\n",
        "\n",
        "# Example usage:\n",
        "fib = Fibonacci(10)\n",
        "print(list(fib))\n"
      ],
      "metadata": {
        "id": "5hZZPud29HFr"
      },
      "execution_count": null,
      "outputs": []
    },
    {
      "cell_type": "code",
      "source": [
        "# 6. Write a generator function in Python that yields the powers of 2 up to a given exponent.\n",
        "def powers_of_two(exponent):\n",
        "    for i in range(exponent + 1):\n",
        "        yield 2**i\n",
        "\n",
        "# Example usage:\n",
        "for power in powers_of_two(5):\n",
        "    print(power)\n"
      ],
      "metadata": {
        "id": "q1X270zG9MqS"
      },
      "execution_count": null,
      "outputs": []
    },
    {
      "cell_type": "code",
      "source": [
        "# 7. Implement a generator function that reads a file line by line and yields each line as a string.\n",
        "def read_lines(file_path):\n",
        "    with open(file_path, 'r') as file:\n",
        "        for line in file:\n",
        "            yield line.strip()\n",
        "\n",
        "# Example usage:\n",
        "# for line in read_lines('example.txt'):\n",
        "#     print(line)\n"
      ],
      "metadata": {
        "id": "FWPeIAot9PaI"
      },
      "execution_count": null,
      "outputs": []
    },
    {
      "cell_type": "code",
      "source": [
        "# 8. Use a lambda function in Python to sort a list of tuples based on the second element of each tuple.\n",
        "tuples = [(1, 3), (4, 2), (2, 5)]\n",
        "sorted_tuples = sorted(tuples, key=lambda x: x[1])\n",
        "print(sorted_tuples)\n"
      ],
      "metadata": {
        "id": "zeUlrzFa9RrL"
      },
      "execution_count": null,
      "outputs": []
    },
    {
      "cell_type": "code",
      "source": [
        "# 9. Write a Python program that uses `map()` to convert a list of temperatures from Celsius to Fahrenheit.\n",
        "celsius = [0, 20, 30, 40]\n",
        "fahrenheit = list(map(lambda c: c * 9/5 + 32, celsius))\n",
        "print(fahrenheit)\n"
      ],
      "metadata": {
        "id": "x8y_O1kQ9T8d"
      },
      "execution_count": null,
      "outputs": []
    },
    {
      "cell_type": "code",
      "source": [
        "# 10. Create a Python program that uses `filter()` to remove all the vowels from a given string.\n",
        "\n",
        "def remove_vowels(s):\n",
        "    vowels = 'aeiouAEIOU'\n",
        "    return ''.join(filter(lambda x: x not in vowels, s))\n",
        "\n",
        "input_string = \"Hello World\"\n",
        "result = remove_vowels(input_string)\n",
        "print(result)  # Output: \"Hll Wrld\"\n"
      ],
      "metadata": {
        "id": "PjUu3u429VvB"
      },
      "execution_count": null,
      "outputs": []
    },
    {
      "cell_type": "code",
      "execution_count": null,
      "metadata": {
        "id": "XzXHSmLM53NA"
      },
      "outputs": [],
      "source": [
        "\n"
      ]
    }
  ]
}